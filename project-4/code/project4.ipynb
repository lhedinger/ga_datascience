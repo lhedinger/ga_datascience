{
 "cells": [
  {
   "cell_type": "markdown",
   "metadata": {},
   "source": [
    "# Project 4\n",
    "\n",
    "In this project, you will summarize and present your analysis from Projects 1-3."
   ]
  },
  {
   "cell_type": "markdown",
   "metadata": {},
   "source": [
    "### Intro: Write a problem Statement/ Specific Aim for this project"
   ]
  },
  {
   "cell_type": "markdown",
   "metadata": {},
   "source": [
    "Answer:\n",
    "\n",
    "Using the given data, we will attempt to measure the factors affecting the likelyhood of a student's admission chances into graduate school, given the knowledge of their GPA, GRE and the prestige ranking of their undergrad college.\n",
    "\n",
    "Our initial hypothesis was that students with higher GPA scores are much more likely to be accepted into grad school, in comparison to other favorable factors such as GRE and Prestige. Given what analysis algorithms we have access to, we will also determine what the odds ratios are of these factors."
   ]
  },
  {
   "cell_type": "markdown",
   "metadata": {},
   "source": [
    "### Dataset:  Write up a description of your data and any cleaning that was completed"
   ]
  },
  {
   "cell_type": "markdown",
   "metadata": {},
   "source": [
    "Answer:\n",
    "\n",
    "The given dataset represents a snapshot of applicant students for one application period. The data tells us which students in the set were accepted or not, given their GPA, GRE, and undergrad school prestige rank. The GRE is a numeric score from 0 to 800, while the GPA score is a decimal value from 0 to 4. In addition the student's undergrad school will have a prestige ranking of either 1, 2 3, or 4. 1 being the best and 4 being the worst.\n",
    "\n",
    "When we loaded the CSV data we decided to remove any rows that had missing variables in order to reduce the amount of noise generated during analysis. By doing so we had to drop 3 out of the original 400 rows of data."
   ]
  },
  {
   "cell_type": "markdown",
   "metadata": {
    "collapsed": true
   },
   "source": [
    "### Demo: Provide a table that explains the data by admission status"
   ]
  },
  {
   "cell_type": "markdown",
   "metadata": {},
   "source": [
    "Mean (STD) or counts by admission status for each variable \n",
    "\n",
    "| Not Admitted | Admitted\n",
    "---| ---|---\n",
    "GPA | 3.35 (0.38)  | 3.49 (0.37)\n",
    "GRE | 573.6  (116.1) | 618.6 (109.3)\n",
    "Prestige 1 | 28 (10.3%) | 33 (26.2%)\n",
    "Prestige 2 | 95 (35.1%) | 53 (42.1%)\n",
    "Prestige 3 | 93 (34.3%) | 28 (22.2%)\n",
    "Prestige 4 | 55 (20.3%) | 12 (9.5%)\n"
   ]
  },
  {
   "cell_type": "markdown",
   "metadata": {},
   "source": [
    "### Methods: Write up the methods used in your analysis"
   ]
  },
  {
   "cell_type": "markdown",
   "metadata": {},
   "source": [
    "Answer:\n",
    "\n",
    "In our analysis we first ran a correlation matrix to determine any colinear variables. Fortunately none of the variables were colinear so we proceeded to generate dummy variables of the prestige columns in order to run a logistic regression of the GPA, GRE, and prestige, given the admission outcome. The method we used was the Logit MLE (maximum likelyhood estimate). We then fitted the model and used the model to determine the odds for each variables. In addition we then ran predictions on all possible permutations of prestige, GPA, and GRE, using the fitted model."
   ]
  },
  {
   "cell_type": "markdown",
   "metadata": {},
   "source": [
    "### Results: Write up your results"
   ]
  },
  {
   "cell_type": "markdown",
   "metadata": {},
   "source": [
    "Answer:\n",
    "\n",
    "After running our analysis methods, we determined that GPA was the biggest factor in influencing the odds of admission.\n",
    "Ranked after that was the GRE and finally the prestige ranking from best to worst.\n",
    "\n",
    "See table below:\n",
    "\n",
    "|ODDS RATIOS|\n",
    "---| ---|---\n",
    "gre         |  1.002221\n",
    "gpa         |  2.180027\n",
    "prestige_1  |  4.727566\n",
    "prestige_2   | 2.394738\n",
    "prestige_3  |  1.239531\n",
    "\n"
   ]
  },
  {
   "cell_type": "markdown",
   "metadata": {},
   "source": [
    "### Visuals: Provide a table or visualization of these results"
   ]
  },
  {
   "cell_type": "markdown",
   "metadata": {},
   "source": [
    "<img src='../assets/images/figure1a.png' height= 25% width= 100%>"
   ]
  },
  {
   "cell_type": "markdown",
   "metadata": {},
   "source": [
    "<img src='../assets/images/figure1b.png' height= 25% width= 100%>"
   ]
  },
  {
   "cell_type": "markdown",
   "metadata": {},
   "source": [
    "### Discussion: Write up your discussion and future steps"
   ]
  },
  {
   "cell_type": "markdown",
   "metadata": {},
   "source": [
    "Answer: \n",
    "\n",
    "As seen in the results above we can see how GRE, GPA and prestige affect the chances of admission into graduate school.\n",
    "Looking at the graph and chart, we can note how obviously higher scores of GRE, GPA and prestige will increase chances of admission. Continuing the analysis we can see that GPA is the biggest influencer of admission odds, with GRE scoring seconds and prestige last. The graph confirms this as we can see how a steeper slope for GPA vs the GRE slope.\n",
    "\n",
    "Future steps will be to better optimize the regression models that we used and improve data visualization. Given more time, we will probably be able to better tune the prediction model and better visualize the relationship of prestige with GRE and GPA."
   ]
  },
  {
   "cell_type": "markdown",
   "metadata": {},
   "source": [
    "### Below is any supplemental python code used outside of projects 1 to 3"
   ]
  },
  {
   "cell_type": "code",
   "execution_count": 5,
   "metadata": {
    "collapsed": false
   },
   "outputs": [
    {
     "data": {
      "text/plain": [
       "admit       397\n",
       "gre         397\n",
       "gpa         397\n",
       "prestige    397\n",
       "dtype: int64"
      ]
     },
     "execution_count": 5,
     "metadata": {},
     "output_type": "execute_result"
    }
   ],
   "source": [
    "#imports\n",
    "from __future__ import division\n",
    "import pandas as pd\n",
    "import numpy as np\n",
    "import matplotlib.pyplot as plt\n",
    "import statsmodels.api as sm\n",
    "import pylab as pl\n",
    "import numpy as np\n",
    "import seaborn as sns\n",
    "%matplotlib inline\n",
    "\n",
    "#Read in data from source \n",
    "df_raw = pd.read_csv(\"../assets/admissions.csv\")\n",
    "df = df_raw[pd.notnull(df_raw.admit) & pd.notnull(df_raw.gre) & pd.notnull(df_raw.gpa) & pd.notnull(df_raw.prestige)]\n",
    "df.count()"
   ]
  },
  {
   "cell_type": "code",
   "execution_count": 39,
   "metadata": {
    "collapsed": false
   },
   "outputs": [
    {
     "name": "stdout",
     "output_type": "stream",
     "text": [
      "271.0\n",
      "126.0\n"
     ]
    },
    {
     "data": {
      "text/html": [
       "<div>\n",
       "<table border=\"1\" class=\"dataframe\">\n",
       "  <thead>\n",
       "    <tr style=\"text-align: right;\">\n",
       "      <th>admit</th>\n",
       "      <th>0</th>\n",
       "      <th>1</th>\n",
       "      <th>perc0</th>\n",
       "      <th>perc1</th>\n",
       "    </tr>\n",
       "    <tr>\n",
       "      <th>prestige</th>\n",
       "      <th></th>\n",
       "      <th></th>\n",
       "      <th></th>\n",
       "      <th></th>\n",
       "    </tr>\n",
       "  </thead>\n",
       "  <tbody>\n",
       "    <tr>\n",
       "      <th>1.0</th>\n",
       "      <td>28</td>\n",
       "      <td>33</td>\n",
       "      <td>10.332103</td>\n",
       "      <td>26.190476</td>\n",
       "    </tr>\n",
       "    <tr>\n",
       "      <th>2.0</th>\n",
       "      <td>95</td>\n",
       "      <td>53</td>\n",
       "      <td>35.055351</td>\n",
       "      <td>42.063492</td>\n",
       "    </tr>\n",
       "    <tr>\n",
       "      <th>3.0</th>\n",
       "      <td>93</td>\n",
       "      <td>28</td>\n",
       "      <td>34.317343</td>\n",
       "      <td>22.222222</td>\n",
       "    </tr>\n",
       "    <tr>\n",
       "      <th>4.0</th>\n",
       "      <td>55</td>\n",
       "      <td>12</td>\n",
       "      <td>20.295203</td>\n",
       "      <td>9.523810</td>\n",
       "    </tr>\n",
       "  </tbody>\n",
       "</table>\n",
       "</div>"
      ],
      "text/plain": [
       "admit      0   1      perc0      perc1\n",
       "prestige                              \n",
       "1.0       28  33  10.332103  26.190476\n",
       "2.0       95  53  35.055351  42.063492\n",
       "3.0       93  28  34.317343  22.222222\n",
       "4.0       55  12  20.295203   9.523810"
      ]
     },
     "execution_count": 39,
     "metadata": {},
     "output_type": "execute_result"
    }
   ],
   "source": [
    "ct = pd.crosstab(df['prestige'], df['admit'])\n",
    "sum0 = float(np.sum(ct.iloc[:,0]))\n",
    "sum1 = float(np.sum(ct.iloc[:,1]))\n",
    "\n",
    "print sum0\n",
    "print sum1\n",
    "ct['perc0'] = np.multiply(100,np.divide(ct.iloc[:,0], sum0))\n",
    "ct['perc1'] = np.multiply(100,np.divide(ct.iloc[:,1], sum1))\n",
    "\n",
    "ct"
   ]
  },
  {
   "cell_type": "code",
   "execution_count": 57,
   "metadata": {
    "collapsed": false
   },
   "outputs": [
    {
     "name": "stdout",
     "output_type": "stream",
     "text": [
      "0 - mean\n",
      "gre    573.579336\n",
      "gpa      3.347159\n",
      "dtype: float64\n",
      "0 - std\n",
      "gre    116.052798\n",
      "gpa      0.376355\n",
      "dtype: float64\n",
      "1 - mean\n",
      "gre    618.571429\n",
      "gpa      3.489206\n",
      "dtype: float64\n",
      "1 - std\n",
      "gre    109.257233\n",
      "gpa      0.371655\n",
      "dtype: float64\n"
     ]
    }
   ],
   "source": [
    "print \"0 - mean\"\n",
    "print df[df.admit == 0].mean().iloc[1:3]\n",
    "print \"0 - std\"\n",
    "print df[df.admit == 0].std().iloc[1:3]\n",
    "print \"1 - mean\"\n",
    "print df[df.admit == 1].mean().iloc[1:3]\n",
    "print \"1 - std\"\n",
    "print df[df.admit == 1].std().iloc[1:3]"
   ]
  },
  {
   "cell_type": "code",
   "execution_count": null,
   "metadata": {
    "collapsed": false
   },
   "outputs": [],
   "source": []
  },
  {
   "cell_type": "code",
   "execution_count": null,
   "metadata": {
    "collapsed": true
   },
   "outputs": [],
   "source": []
  }
 ],
 "metadata": {
  "anaconda-cloud": {},
  "kernelspec": {
   "display_name": "Python [Root]",
   "language": "python",
   "name": "Python [Root]"
  },
  "language_info": {
   "codemirror_mode": {
    "name": "ipython",
    "version": 2
   },
   "file_extension": ".py",
   "mimetype": "text/x-python",
   "name": "python",
   "nbconvert_exporter": "python",
   "pygments_lexer": "ipython2",
   "version": "2.7.12"
  }
 },
 "nbformat": 4,
 "nbformat_minor": 0
}
