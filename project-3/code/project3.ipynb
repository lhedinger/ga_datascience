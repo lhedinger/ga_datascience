{
 "cells": [
  {
   "cell_type": "markdown",
   "metadata": {},
   "source": [
    "# Project 3\n",
    "\n",
    "In this project, you will perform a logistic regression on the admissions data we've been working with in projects 1 and 2."
   ]
  },
  {
   "cell_type": "code",
   "execution_count": 1,
   "metadata": {
    "collapsed": false
   },
   "outputs": [],
   "source": [
    "%matplotlib inline\n",
    "import matplotlib.pyplot as plt\n",
    "import seaborn as sns\n",
    "import pandas as pd\n",
    "import statsmodels.api as sm\n",
    "import pylab as pl\n",
    "import numpy as np\n"
   ]
  },
  {
   "cell_type": "code",
   "execution_count": 2,
   "metadata": {
    "collapsed": false
   },
   "outputs": [
    {
     "name": "stdout",
     "output_type": "stream",
     "text": [
      "   admit    gre   gpa  prestige\n",
      "0      0  380.0  3.61       3.0\n",
      "1      1  660.0  3.67       3.0\n",
      "2      1  800.0  4.00       1.0\n",
      "3      1  640.0  3.19       4.0\n",
      "4      0  520.0  2.93       4.0\n"
     ]
    }
   ],
   "source": [
    "df_raw = pd.read_csv(\"../assets/admissions.csv\")\n",
    "df_clean = df_raw.dropna() \n",
    "print df_clean.head()"
   ]
  },
  {
   "cell_type": "markdown",
   "metadata": {},
   "source": [
    "## Part 1. Frequency Tables\n",
    "\n",
    "#### 1. Let's create a frequency table of our variables"
   ]
  },
  {
   "cell_type": "code",
   "execution_count": 3,
   "metadata": {
    "collapsed": false
   },
   "outputs": [
    {
     "name": "stdout",
     "output_type": "stream",
     "text": [
      "FREQUENCY OF ADMISSION\n",
      "0    271\n",
      "1    126\n",
      "Name: admit, dtype: int64\n",
      "FREQUENCY OF PRESTIGE\n",
      "1.0     61\n",
      "2.0    148\n",
      "3.0    121\n",
      "4.0     67\n",
      "Name: prestige, dtype: int64\n"
     ]
    }
   ],
   "source": [
    "# frequency table for prestige and whether or not someone was admitted\n",
    "print \"FREQUENCY OF ADMISSION\"\n",
    "print df_clean.admit.value_counts().sort_index()\n",
    "print \"FREQUENCY OF PRESTIGE\"\n",
    "print df_clean.prestige.value_counts().sort_index()"
   ]
  },
  {
   "cell_type": "markdown",
   "metadata": {},
   "source": [
    "## Part 2. Return of dummy variables"
   ]
  },
  {
   "cell_type": "markdown",
   "metadata": {},
   "source": [
    "#### 2.1 Create class or dummy variables for prestige "
   ]
  },
  {
   "cell_type": "code",
   "execution_count": 4,
   "metadata": {
    "collapsed": false
   },
   "outputs": [
    {
     "data": {
      "text/html": [
       "<div>\n",
       "<table border=\"1\" class=\"dataframe\">\n",
       "  <thead>\n",
       "    <tr style=\"text-align: right;\">\n",
       "      <th></th>\n",
       "      <th>admit</th>\n",
       "      <th>gre</th>\n",
       "      <th>gpa</th>\n",
       "      <th>prestige</th>\n",
       "      <th>prestige_1</th>\n",
       "      <th>prestige_2</th>\n",
       "      <th>prestige_3</th>\n",
       "      <th>prestige_4</th>\n",
       "    </tr>\n",
       "  </thead>\n",
       "  <tbody>\n",
       "    <tr>\n",
       "      <th>0</th>\n",
       "      <td>0</td>\n",
       "      <td>380.0</td>\n",
       "      <td>3.61</td>\n",
       "      <td>3.0</td>\n",
       "      <td>0.0</td>\n",
       "      <td>0.0</td>\n",
       "      <td>1.0</td>\n",
       "      <td>0.0</td>\n",
       "    </tr>\n",
       "    <tr>\n",
       "      <th>1</th>\n",
       "      <td>1</td>\n",
       "      <td>660.0</td>\n",
       "      <td>3.67</td>\n",
       "      <td>3.0</td>\n",
       "      <td>0.0</td>\n",
       "      <td>0.0</td>\n",
       "      <td>1.0</td>\n",
       "      <td>0.0</td>\n",
       "    </tr>\n",
       "    <tr>\n",
       "      <th>2</th>\n",
       "      <td>1</td>\n",
       "      <td>800.0</td>\n",
       "      <td>4.00</td>\n",
       "      <td>1.0</td>\n",
       "      <td>1.0</td>\n",
       "      <td>0.0</td>\n",
       "      <td>0.0</td>\n",
       "      <td>0.0</td>\n",
       "    </tr>\n",
       "    <tr>\n",
       "      <th>3</th>\n",
       "      <td>1</td>\n",
       "      <td>640.0</td>\n",
       "      <td>3.19</td>\n",
       "      <td>4.0</td>\n",
       "      <td>0.0</td>\n",
       "      <td>0.0</td>\n",
       "      <td>0.0</td>\n",
       "      <td>1.0</td>\n",
       "    </tr>\n",
       "    <tr>\n",
       "      <th>4</th>\n",
       "      <td>0</td>\n",
       "      <td>520.0</td>\n",
       "      <td>2.93</td>\n",
       "      <td>4.0</td>\n",
       "      <td>0.0</td>\n",
       "      <td>0.0</td>\n",
       "      <td>0.0</td>\n",
       "      <td>1.0</td>\n",
       "    </tr>\n",
       "    <tr>\n",
       "      <th>5</th>\n",
       "      <td>1</td>\n",
       "      <td>760.0</td>\n",
       "      <td>3.00</td>\n",
       "      <td>2.0</td>\n",
       "      <td>0.0</td>\n",
       "      <td>1.0</td>\n",
       "      <td>0.0</td>\n",
       "      <td>0.0</td>\n",
       "    </tr>\n",
       "    <tr>\n",
       "      <th>6</th>\n",
       "      <td>1</td>\n",
       "      <td>560.0</td>\n",
       "      <td>2.98</td>\n",
       "      <td>1.0</td>\n",
       "      <td>1.0</td>\n",
       "      <td>0.0</td>\n",
       "      <td>0.0</td>\n",
       "      <td>0.0</td>\n",
       "    </tr>\n",
       "    <tr>\n",
       "      <th>7</th>\n",
       "      <td>0</td>\n",
       "      <td>400.0</td>\n",
       "      <td>3.08</td>\n",
       "      <td>2.0</td>\n",
       "      <td>0.0</td>\n",
       "      <td>1.0</td>\n",
       "      <td>0.0</td>\n",
       "      <td>0.0</td>\n",
       "    </tr>\n",
       "    <tr>\n",
       "      <th>8</th>\n",
       "      <td>1</td>\n",
       "      <td>540.0</td>\n",
       "      <td>3.39</td>\n",
       "      <td>3.0</td>\n",
       "      <td>0.0</td>\n",
       "      <td>0.0</td>\n",
       "      <td>1.0</td>\n",
       "      <td>0.0</td>\n",
       "    </tr>\n",
       "    <tr>\n",
       "      <th>9</th>\n",
       "      <td>0</td>\n",
       "      <td>700.0</td>\n",
       "      <td>3.92</td>\n",
       "      <td>2.0</td>\n",
       "      <td>0.0</td>\n",
       "      <td>1.0</td>\n",
       "      <td>0.0</td>\n",
       "      <td>0.0</td>\n",
       "    </tr>\n",
       "  </tbody>\n",
       "</table>\n",
       "</div>"
      ],
      "text/plain": [
       "   admit    gre   gpa  prestige  prestige_1  prestige_2  prestige_3  \\\n",
       "0      0  380.0  3.61       3.0         0.0         0.0         1.0   \n",
       "1      1  660.0  3.67       3.0         0.0         0.0         1.0   \n",
       "2      1  800.0  4.00       1.0         1.0         0.0         0.0   \n",
       "3      1  640.0  3.19       4.0         0.0         0.0         0.0   \n",
       "4      0  520.0  2.93       4.0         0.0         0.0         0.0   \n",
       "5      1  760.0  3.00       2.0         0.0         1.0         0.0   \n",
       "6      1  560.0  2.98       1.0         1.0         0.0         0.0   \n",
       "7      0  400.0  3.08       2.0         0.0         1.0         0.0   \n",
       "8      1  540.0  3.39       3.0         0.0         0.0         1.0   \n",
       "9      0  700.0  3.92       2.0         0.0         1.0         0.0   \n",
       "\n",
       "   prestige_4  \n",
       "0         0.0  \n",
       "1         0.0  \n",
       "2         0.0  \n",
       "3         1.0  \n",
       "4         1.0  \n",
       "5         0.0  \n",
       "6         0.0  \n",
       "7         0.0  \n",
       "8         0.0  \n",
       "9         0.0  "
      ]
     },
     "execution_count": 4,
     "metadata": {},
     "output_type": "execute_result"
    }
   ],
   "source": [
    "dummies = pd.get_dummies(df_clean['prestige'])\n",
    "df = df_clean.copy()\n",
    "df['prestige_1'] = dummies.iloc[:,0] # keeping this here for now to make code below simpler\n",
    "df['prestige_2'] = dummies.iloc[:,1]\n",
    "df['prestige_3'] = dummies.iloc[:,2]\n",
    "df['prestige_4'] = dummies.iloc[:,3]\n",
    "df.head(10)"
   ]
  },
  {
   "cell_type": "markdown",
   "metadata": {},
   "source": [
    "#### 2.2 When modeling our class variables, how many do we need? \n",
    "\n"
   ]
  },
  {
   "cell_type": "markdown",
   "metadata": {},
   "source": [
    "Answer: n-1, where n is the number of different values"
   ]
  },
  {
   "cell_type": "markdown",
   "metadata": {},
   "source": [
    "## Part 3. Hand calculating odds ratios\n",
    "\n",
    "Develop your intuition about expected outcomes by hand calculating odds ratios."
   ]
  },
  {
   "cell_type": "code",
   "execution_count": 5,
   "metadata": {
    "collapsed": false
   },
   "outputs": [
    {
     "name": "stdout",
     "output_type": "stream",
     "text": [
      "   admit    gre   gpa  prestige_1  prestige_2  prestige_3  prestige_4\n",
      "0      0  380.0  3.61         0.0         0.0         1.0         0.0\n",
      "1      1  660.0  3.67         0.0         0.0         1.0         0.0\n",
      "2      1  800.0  4.00         1.0         0.0         0.0         0.0\n",
      "3      1  640.0  3.19         0.0         0.0         0.0         1.0\n",
      "4      0  520.0  2.93         0.0         0.0         0.0         1.0\n",
      "\n",
      "ADMISSION - OVERALL\n",
      "Probability: 0.317380352645\n",
      "Odds Ratio: 0.464944649446\n",
      "Log Odds Ratio: -0.765836913928\n",
      "\n",
      "ADMISSION - TOP PRESTIGE\n",
      "Probability: 0.540983606557\n",
      "Odds Ratio: 1.17857142857\n",
      "Log Odds Ratio: 0.164303051291\n",
      "\n",
      "ADMISSION - MID PRESTIGE\n",
      "Probability: 0.358108108108\n",
      "Odds Ratio: 0.557894736842\n",
      "Log Odds Ratio: -0.583584978048\n",
      "\n",
      "ADMISSION - LOW PRESTIGE\n",
      "Probability: 0.231404958678\n",
      "Odds Ratio: 0.301075268817\n",
      "Log Odds Ratio: -1.20039498298\n",
      "\n",
      "ADMISSION - WORST PRESTIGE\n",
      "Probability: 0.179104477612\n",
      "Odds Ratio: 0.218181818182\n",
      "Log Odds Ratio: -1.52242653544\n"
     ]
    }
   ],
   "source": [
    "dummy_ranks = df\n",
    "\n",
    "cols_to_keep = ['admit', 'gre', 'gpa']\n",
    "handCalc = df[cols_to_keep].join(dummy_ranks.ix[:, 'prestige_1':])\n",
    "print handCalc.head()\n",
    "\n",
    "prob = handCalc[handCalc.admit == 1].size/float(handCalc.size)\n",
    "odds_ratio =  prob / (1-prob)\n",
    "log_odds = np.log(odds_ratio)\n",
    "\n",
    "print\n",
    "print \"ADMISSION - OVERALL\"\n",
    "print \"Probability:\", prob\n",
    "print \"Odds Ratio:\", odds_ratio\n",
    "print \"Log Odds Ratio:\", log_odds\n",
    "\n",
    "# too lazy to copy paste & maintain code - so let's iterate instead\n",
    "arr = [(\"TOP\", \"prestige_1\"),(\"MID\", \"prestige_2\"),(\"LOW\", \"prestige_3\"),(\"WORST\", \"prestige_4\")]\n",
    "\n",
    "for a in arr:\n",
    "\n",
    "    prob = handCalc[(handCalc.admit == 1) & (handCalc[a[1]] == 1)].size/float(handCalc[(handCalc[a[1]] == 1)].size)\n",
    "    odds_ratio =  prob / (1-prob)\n",
    "    log_odds = np.log(odds_ratio)\n",
    "\n",
    "    print\n",
    "    print \"ADMISSION -\",a[0],\"PRESTIGE\"\n",
    "    print \"Probability:\", prob\n",
    "    print \"Odds Ratio:\", odds_ratio\n",
    "    print \"Log Odds Ratio:\", log_odds"
   ]
  },
  {
   "cell_type": "code",
   "execution_count": 6,
   "metadata": {
    "collapsed": false
   },
   "outputs": [
    {
     "data": {
      "text/html": [
       "<div>\n",
       "<table border=\"1\" class=\"dataframe\">\n",
       "  <thead>\n",
       "    <tr style=\"text-align: right;\">\n",
       "      <th>prestige_1</th>\n",
       "      <th>0.0</th>\n",
       "      <th>1.0</th>\n",
       "    </tr>\n",
       "    <tr>\n",
       "      <th>admit</th>\n",
       "      <th></th>\n",
       "      <th></th>\n",
       "    </tr>\n",
       "  </thead>\n",
       "  <tbody>\n",
       "    <tr>\n",
       "      <th>0</th>\n",
       "      <td>243</td>\n",
       "      <td>28</td>\n",
       "    </tr>\n",
       "    <tr>\n",
       "      <th>1</th>\n",
       "      <td>93</td>\n",
       "      <td>33</td>\n",
       "    </tr>\n",
       "  </tbody>\n",
       "</table>\n",
       "</div>"
      ],
      "text/plain": [
       "prestige_1  0.0  1.0\n",
       "admit               \n",
       "0           243   28\n",
       "1            93   33"
      ]
     },
     "execution_count": 6,
     "metadata": {},
     "output_type": "execute_result"
    }
   ],
   "source": [
    "# crosstab prestige 1 admission \n",
    "# frequency table cutting prestige and whether or not someone was admitted\n",
    "\n",
    "ctab = pd.crosstab(df['admit'], df['prestige_1'])\n",
    "ctab"
   ]
  },
  {
   "cell_type": "markdown",
   "metadata": {},
   "source": [
    "#### 3.1 Use the cross tab above to calculate the odds of being admitted to grad school if you attended a #1 ranked college"
   ]
  },
  {
   "cell_type": "code",
   "execution_count": 7,
   "metadata": {
    "collapsed": false
   },
   "outputs": [
    {
     "name": "stdout",
     "output_type": "stream",
     "text": [
      "243\n",
      "93\n",
      "28\n",
      "33\n",
      "\n",
      "If you attended #1 college:\n",
      "Probability: 0.540983606557\n",
      "Odds Ratio: 1.17857142857\n",
      "Log Odds Ratio: 0.164303051291\n"
     ]
    }
   ],
   "source": [
    "print ctab.iloc[0,0] # no admission for non-top\n",
    "print ctab.iloc[1,0] # admission for non-top prestige\n",
    "print ctab.iloc[0,1] # no admission for top\n",
    "print ctab.iloc[1,1] # admission for top prestige\n",
    "\n",
    "prob = ctab.iloc[1,1]/float(ctab.iloc[0,1]+ctab.iloc[1,1])\n",
    "odds_ratio =  prob / (1-prob)\n",
    "log_odds = np.log(odds_ratio)\n",
    "\n",
    "print\n",
    "print \"If you attended #1 college:\"\n",
    "print \"Probability:\", prob\n",
    "print \"Odds Ratio:\", odds_ratio\n",
    "print \"Log Odds Ratio:\", log_odds\n",
    "\n",
    "odds_top = odds_ratio"
   ]
  },
  {
   "cell_type": "markdown",
   "metadata": {},
   "source": [
    "#### 3.2 Now calculate the odds of admission if you did not attend a #1 ranked college"
   ]
  },
  {
   "cell_type": "code",
   "execution_count": 8,
   "metadata": {
    "collapsed": false
   },
   "outputs": [
    {
     "name": "stdout",
     "output_type": "stream",
     "text": [
      "\n",
      "If you attended #1 college:\n",
      "Probability: 0.276785714286\n",
      "Odds Ratio: 0.382716049383\n",
      "Log Odds Ratio: -0.960461950187\n"
     ]
    }
   ],
   "source": [
    "prob = ctab.iloc[1,0]/float(ctab.iloc[0,0]+ctab.iloc[1,0])\n",
    "odds_ratio =  prob / (1-prob)\n",
    "log_odds = np.log(odds_ratio)\n",
    "\n",
    "print\n",
    "print \"If you attended #1 college:\"\n",
    "print \"Probability:\", prob\n",
    "print \"Odds Ratio:\", odds_ratio\n",
    "print \"Log Odds Ratio:\", log_odds\n",
    "\n",
    "odds_rest = odds_ratio"
   ]
  },
  {
   "cell_type": "markdown",
   "metadata": {},
   "source": [
    "#### 3.3 Calculate the odds ratio"
   ]
  },
  {
   "cell_type": "code",
   "execution_count": 9,
   "metadata": {
    "collapsed": false
   },
   "outputs": [
    {
     "name": "stdout",
     "output_type": "stream",
     "text": [
      "odds ratio\n",
      "3.07949308756\n"
     ]
    }
   ],
   "source": [
    "print \"odds ratio\"\n",
    "print (odds_top / odds_rest)"
   ]
  },
  {
   "cell_type": "markdown",
   "metadata": {},
   "source": [
    "#### 3.4 Write this finding in a sentence: "
   ]
  },
  {
   "cell_type": "markdown",
   "metadata": {},
   "source": [
    "Answer: Your odds are 3 times higher for you to be accepted into grad school if you have graduated from a #1 ranked college"
   ]
  },
  {
   "cell_type": "markdown",
   "metadata": {},
   "source": [
    "#### 3.5 Print the cross tab for prestige_4"
   ]
  },
  {
   "cell_type": "code",
   "execution_count": 10,
   "metadata": {
    "collapsed": false
   },
   "outputs": [
    {
     "data": {
      "text/html": [
       "<div>\n",
       "<table border=\"1\" class=\"dataframe\">\n",
       "  <thead>\n",
       "    <tr style=\"text-align: right;\">\n",
       "      <th>prestige_4</th>\n",
       "      <th>0.0</th>\n",
       "      <th>1.0</th>\n",
       "    </tr>\n",
       "    <tr>\n",
       "      <th>admit</th>\n",
       "      <th></th>\n",
       "      <th></th>\n",
       "    </tr>\n",
       "  </thead>\n",
       "  <tbody>\n",
       "    <tr>\n",
       "      <th>0</th>\n",
       "      <td>216</td>\n",
       "      <td>55</td>\n",
       "    </tr>\n",
       "    <tr>\n",
       "      <th>1</th>\n",
       "      <td>114</td>\n",
       "      <td>12</td>\n",
       "    </tr>\n",
       "  </tbody>\n",
       "</table>\n",
       "</div>"
      ],
      "text/plain": [
       "prestige_4  0.0  1.0\n",
       "admit               \n",
       "0           216   55\n",
       "1           114   12"
      ]
     },
     "execution_count": 10,
     "metadata": {},
     "output_type": "execute_result"
    }
   ],
   "source": [
    "ctab = pd.crosstab(df['admit'], df['prestige_4'])\n",
    "ctab"
   ]
  },
  {
   "cell_type": "markdown",
   "metadata": {},
   "source": [
    "#### 3.6 Calculate the OR "
   ]
  },
  {
   "cell_type": "code",
   "execution_count": 11,
   "metadata": {
    "collapsed": false
   },
   "outputs": [
    {
     "name": "stdout",
     "output_type": "stream",
     "text": [
      "216\n",
      "114\n",
      "55\n",
      "12\n",
      "\n",
      "If you attended #4 college:\n",
      "Probability: 0.179104477612\n",
      "Odds Ratio: 0.218181818182\n",
      "Log Odds Ratio: -1.52242653544\n",
      "\n",
      "If you attended any non #4 college:\n",
      "Probability: 0.345454545455\n",
      "Odds Ratio: 0.527777777778\n",
      "Log Odds Ratio: -0.63907995929\n",
      "\n",
      "ODDS RATIO\n",
      "2.41898148148\n"
     ]
    }
   ],
   "source": [
    "print ctab.iloc[0,0] # no admission for non-bottom\n",
    "print ctab.iloc[1,0] # admission for non-bottom prestige\n",
    "print ctab.iloc[0,1] # no admission for bottom\n",
    "print ctab.iloc[1,1] # admission for bottom prestige\n",
    "\n",
    "prob = ctab.iloc[1,1]/float(ctab.iloc[0,1]+ctab.iloc[1,1])\n",
    "odds_ratio =  prob / (1-prob)\n",
    "log_odds = np.log(odds_ratio)\n",
    "\n",
    "print\n",
    "print \"If you attended #4 college:\"\n",
    "print \"Probability:\", prob\n",
    "print \"Odds Ratio:\", odds_ratio\n",
    "print \"Log Odds Ratio:\", log_odds\n",
    "\n",
    "odds_bottom = odds_ratio\n",
    "\n",
    "prob = ctab.iloc[1,0]/float(ctab.iloc[0,0]+ctab.iloc[1,0])\n",
    "odds_ratio =  prob / (1-prob)\n",
    "log_odds = np.log(odds_ratio)\n",
    "\n",
    "print\n",
    "print \"If you attended any non #4 college:\"\n",
    "print \"Probability:\", prob\n",
    "print \"Odds Ratio:\", odds_ratio\n",
    "print \"Log Odds Ratio:\", log_odds\n",
    "\n",
    "odds_rest = odds_ratio\n",
    "\n",
    "print\n",
    "print \"ODDS RATIO\"\n",
    "print odds_rest / odds_bottom"
   ]
  },
  {
   "cell_type": "markdown",
   "metadata": {},
   "source": [
    "#### 3.7 Write this finding in a sentence"
   ]
  },
  {
   "cell_type": "markdown",
   "metadata": {},
   "source": [
    "Answer: Your odds of admission are significantly lower if you only attended a #4 ranked college. If you did not attend a lowest ranked college, your odds are 2.4 times higher"
   ]
  },
  {
   "cell_type": "markdown",
   "metadata": {},
   "source": [
    "## Part 4. Analysis"
   ]
  },
  {
   "cell_type": "code",
   "execution_count": 52,
   "metadata": {
    "collapsed": false
   },
   "outputs": [
    {
     "name": "stdout",
     "output_type": "stream",
     "text": [
      "   admit    gre   gpa  prestige_1  prestige_2  prestige_3\n",
      "0      0  380.0  3.61         0.0         0.0         1.0\n",
      "1      1  660.0  3.67         0.0         0.0         1.0\n",
      "2      1  800.0  4.00         1.0         0.0         0.0\n",
      "3      1  640.0  3.19         0.0         0.0         0.0\n",
      "4      0  520.0  2.93         0.0         0.0         0.0\n"
     ]
    }
   ],
   "source": [
    "# create a clean data frame for the regression\n",
    "cols_to_keep = ['admit', 'gre', 'gpa']\n",
    "data = df[cols_to_keep].join(dummy_ranks.ix[:, 'prestige_1':'prestige_3'])\n",
    "print data.head()"
   ]
  },
  {
   "cell_type": "markdown",
   "metadata": {},
   "source": [
    "We're going to add a constant term for our Logistic Regression. The statsmodels function we're going to be using requires that intercepts/constants are specified explicitly."
   ]
  },
  {
   "cell_type": "code",
   "execution_count": 53,
   "metadata": {
    "collapsed": false
   },
   "outputs": [
    {
     "name": "stdout",
     "output_type": "stream",
     "text": [
      "   admit    gre   gpa  prestige_1  prestige_2  prestige_3  intercept\n",
      "0      0  380.0  3.61         0.0         0.0         1.0        1.0\n",
      "1      1  660.0  3.67         0.0         0.0         1.0        1.0\n",
      "2      1  800.0  4.00         1.0         0.0         0.0        1.0\n",
      "3      1  640.0  3.19         0.0         0.0         0.0        1.0\n",
      "4      0  520.0  2.93         0.0         0.0         0.0        1.0\n"
     ]
    }
   ],
   "source": [
    "# manually add the intercept\n",
    "data['intercept'] = 1.0\n",
    "print data.head()"
   ]
  },
  {
   "cell_type": "markdown",
   "metadata": {},
   "source": [
    "#### 4.1 Set the covariates to a variable called train_cols"
   ]
  },
  {
   "cell_type": "code",
   "execution_count": 59,
   "metadata": {
    "collapsed": false
   },
   "outputs": [],
   "source": [
    "train_cols = data[['gre','gpa','prestige_1','prestige_2','prestige_3', 'intercept']]"
   ]
  },
  {
   "cell_type": "markdown",
   "metadata": {},
   "source": [
    "#### 4.2 Fit the model"
   ]
  },
  {
   "cell_type": "code",
   "execution_count": 60,
   "metadata": {
    "collapsed": false
   },
   "outputs": [
    {
     "name": "stdout",
     "output_type": "stream",
     "text": [
      "Optimization terminated successfully.\n",
      "         Current function value: 0.573854\n",
      "         Iterations 6\n"
     ]
    }
   ],
   "source": [
    "y = data['admit']\n",
    "\n",
    "log_lm = sm.Logit(y, train_cols)\n",
    "result = log_lm.fit()\n"
   ]
  },
  {
   "cell_type": "markdown",
   "metadata": {},
   "source": [
    "#### 4.3 Print the summary results"
   ]
  },
  {
   "cell_type": "code",
   "execution_count": 61,
   "metadata": {
    "collapsed": false
   },
   "outputs": [
    {
     "data": {
      "text/html": [
       "<table class=\"simpletable\">\n",
       "<caption>Logit Regression Results</caption>\n",
       "<tr>\n",
       "  <th>Dep. Variable:</th>       <td>admit</td>      <th>  No. Observations:  </th>  <td>   397</td>  \n",
       "</tr>\n",
       "<tr>\n",
       "  <th>Model:</th>               <td>Logit</td>      <th>  Df Residuals:      </th>  <td>   391</td>  \n",
       "</tr>\n",
       "<tr>\n",
       "  <th>Method:</th>               <td>MLE</td>       <th>  Df Model:          </th>  <td>     5</td>  \n",
       "</tr>\n",
       "<tr>\n",
       "  <th>Date:</th>          <td>Thu, 13 Oct 2016</td> <th>  Pseudo R-squ.:     </th>  <td>0.08166</td> \n",
       "</tr>\n",
       "<tr>\n",
       "  <th>Time:</th>              <td>21:29:52</td>     <th>  Log-Likelihood:    </th> <td> -227.82</td> \n",
       "</tr>\n",
       "<tr>\n",
       "  <th>converged:</th>           <td>True</td>       <th>  LL-Null:           </th> <td> -248.08</td> \n",
       "</tr>\n",
       "<tr>\n",
       "  <th> </th>                      <td> </td>        <th>  LLR p-value:       </th> <td>1.176e-07</td>\n",
       "</tr>\n",
       "</table>\n",
       "<table class=\"simpletable\">\n",
       "<tr>\n",
       "       <td></td>         <th>coef</th>     <th>std err</th>      <th>z</th>      <th>P>|z|</th> <th>[95.0% Conf. Int.]</th> \n",
       "</tr>\n",
       "<tr>\n",
       "  <th>gre</th>        <td>    0.0022</td> <td>    0.001</td> <td>    2.028</td> <td> 0.043</td> <td> 7.44e-05     0.004</td>\n",
       "</tr>\n",
       "<tr>\n",
       "  <th>gpa</th>        <td>    0.7793</td> <td>    0.333</td> <td>    2.344</td> <td> 0.019</td> <td>    0.128     1.431</td>\n",
       "</tr>\n",
       "<tr>\n",
       "  <th>prestige_1</th> <td>    1.5534</td> <td>    0.417</td> <td>    3.721</td> <td> 0.000</td> <td>    0.735     2.372</td>\n",
       "</tr>\n",
       "<tr>\n",
       "  <th>prestige_2</th> <td>    0.8733</td> <td>    0.367</td> <td>    2.378</td> <td> 0.017</td> <td>    0.153     1.593</td>\n",
       "</tr>\n",
       "<tr>\n",
       "  <th>prestige_3</th> <td>    0.2147</td> <td>    0.393</td> <td>    0.547</td> <td> 0.584</td> <td>   -0.555     0.984</td>\n",
       "</tr>\n",
       "<tr>\n",
       "  <th>intercept</th>  <td>   -5.4303</td> <td>    1.140</td> <td>   -4.764</td> <td> 0.000</td> <td>   -7.664    -3.196</td>\n",
       "</tr>\n",
       "</table>"
      ],
      "text/plain": [
       "<class 'statsmodels.iolib.summary.Summary'>\n",
       "\"\"\"\n",
       "                           Logit Regression Results                           \n",
       "==============================================================================\n",
       "Dep. Variable:                  admit   No. Observations:                  397\n",
       "Model:                          Logit   Df Residuals:                      391\n",
       "Method:                           MLE   Df Model:                            5\n",
       "Date:                Thu, 13 Oct 2016   Pseudo R-squ.:                 0.08166\n",
       "Time:                        21:29:52   Log-Likelihood:                -227.82\n",
       "converged:                       True   LL-Null:                       -248.08\n",
       "                                        LLR p-value:                 1.176e-07\n",
       "==============================================================================\n",
       "                 coef    std err          z      P>|z|      [95.0% Conf. Int.]\n",
       "------------------------------------------------------------------------------\n",
       "gre            0.0022      0.001      2.028      0.043      7.44e-05     0.004\n",
       "gpa            0.7793      0.333      2.344      0.019         0.128     1.431\n",
       "prestige_1     1.5534      0.417      3.721      0.000         0.735     2.372\n",
       "prestige_2     0.8733      0.367      2.378      0.017         0.153     1.593\n",
       "prestige_3     0.2147      0.393      0.547      0.584        -0.555     0.984\n",
       "intercept     -5.4303      1.140     -4.764      0.000        -7.664    -3.196\n",
       "==============================================================================\n",
       "\"\"\""
      ]
     },
     "execution_count": 61,
     "metadata": {},
     "output_type": "execute_result"
    }
   ],
   "source": [
    "result.summary()"
   ]
  },
  {
   "cell_type": "markdown",
   "metadata": {},
   "source": [
    "#### 4.4 Calculate the odds ratios of the coeffiencents and their 95% CI intervals\n",
    "\n",
    "hint 1: np.exp(X)\n",
    "\n",
    "hint 2: conf['OR'] = params\n",
    "        \n",
    "           conf.columns = ['2.5%', '97.5%', 'OR']"
   ]
  },
  {
   "cell_type": "code",
   "execution_count": 62,
   "metadata": {
    "collapsed": false
   },
   "outputs": [
    {
     "name": "stdout",
     "output_type": "stream",
     "text": [
      "ODDS RATIOS\n",
      "gre           1.002221\n",
      "gpa           2.180027\n",
      "prestige_1    4.727566\n",
      "prestige_2    2.394738\n",
      "prestige_3    1.239531\n",
      "intercept     0.004382\n",
      "dtype: float64\n",
      "\n",
      "CONFIDENCE INTERVAL\n",
      "                2.5%      97.5%\n",
      "gre         1.000074   1.004372\n",
      "gpa         1.136120   4.183113\n",
      "prestige_1  2.085893  10.714780\n",
      "prestige_2  1.165829   4.919050\n",
      "prestige_3  0.574262   2.675498\n",
      "intercept   0.000469   0.040919\n"
     ]
    }
   ],
   "source": [
    "odds = np.exp(result.params)\n",
    "conf_int = np.exp(result.conf_int())\n",
    "conf_int.columns = ['2.5%', '97.5%']\n",
    "\n",
    "print \"ODDS RATIOS\"\n",
    "print odds\n",
    "print\n",
    "print \"CONFIDENCE INTERVAL\"\n",
    "print conf_int"
   ]
  },
  {
   "cell_type": "code",
   "execution_count": 58,
   "metadata": {
    "collapsed": false
   },
   "outputs": [
    {
     "data": {
      "text/html": [
       "<div>\n",
       "<table border=\"1\" class=\"dataframe\">\n",
       "  <thead>\n",
       "    <tr style=\"text-align: right;\">\n",
       "      <th></th>\n",
       "      <th>OR</th>\n",
       "      <th>2.5%</th>\n",
       "      <th>97.5%</th>\n",
       "    </tr>\n",
       "  </thead>\n",
       "  <tbody>\n",
       "    <tr>\n",
       "      <th>gre</th>\n",
       "      <td>1.002221</td>\n",
       "      <td>1.000074</td>\n",
       "      <td>1.004372</td>\n",
       "    </tr>\n",
       "    <tr>\n",
       "      <th>gpa</th>\n",
       "      <td>2.180027</td>\n",
       "      <td>1.136120</td>\n",
       "      <td>4.183113</td>\n",
       "    </tr>\n",
       "    <tr>\n",
       "      <th>prestige_1</th>\n",
       "      <td>4.727566</td>\n",
       "      <td>2.085893</td>\n",
       "      <td>10.714780</td>\n",
       "    </tr>\n",
       "    <tr>\n",
       "      <th>prestige_2</th>\n",
       "      <td>2.394738</td>\n",
       "      <td>1.165829</td>\n",
       "      <td>4.919050</td>\n",
       "    </tr>\n",
       "    <tr>\n",
       "      <th>prestige_3</th>\n",
       "      <td>1.239531</td>\n",
       "      <td>0.574262</td>\n",
       "      <td>2.675498</td>\n",
       "    </tr>\n",
       "    <tr>\n",
       "      <th>intercept</th>\n",
       "      <td>0.004382</td>\n",
       "      <td>0.000469</td>\n",
       "      <td>0.040919</td>\n",
       "    </tr>\n",
       "  </tbody>\n",
       "</table>\n",
       "</div>"
      ],
      "text/plain": [
       "                  OR      2.5%      97.5%\n",
       "gre         1.002221  1.000074   1.004372\n",
       "gpa         2.180027  1.136120   4.183113\n",
       "prestige_1  4.727566  2.085893  10.714780\n",
       "prestige_2  2.394738  1.165829   4.919050\n",
       "prestige_3  1.239531  0.574262   2.675498\n",
       "intercept   0.004382  0.000469   0.040919"
      ]
     },
     "execution_count": 58,
     "metadata": {},
     "output_type": "execute_result"
    }
   ],
   "source": [
    "conf = pd.DataFrame(columns=['OR'])\n",
    "conf['OR'] = odds\n",
    "conf = conf.join(conf_int)\n",
    "conf"
   ]
  },
  {
   "cell_type": "markdown",
   "metadata": {},
   "source": [
    "#### 4.5 Interpret the OR of Prestige_2"
   ]
  },
  {
   "cell_type": "markdown",
   "metadata": {},
   "source": [
    "Answer: It looks like the odds ratio for prestige_2 is higher than the lower ranking prestiges. This confirms with our theory that the higher prestige is more important than the lower ranking ones."
   ]
  },
  {
   "cell_type": "markdown",
   "metadata": {},
   "source": [
    "#### 4.6 Interpret the OR of GPA"
   ]
  },
  {
   "cell_type": "markdown",
   "metadata": {},
   "source": [
    "Answer: The GPA odds ratio is the highest of all the covariates. This indicates that the gpa is the most influencial factor when it comes to improving the odds of admission."
   ]
  },
  {
   "cell_type": "markdown",
   "metadata": {},
   "source": [
    "## Part 5: Predicted probablities\n"
   ]
  },
  {
   "cell_type": "markdown",
   "metadata": {},
   "source": [
    "As a way of evaluating our classifier, we're going to recreate the dataset with every logical combination of input values. This will allow us to see how the predicted probability of admission increases/decreases across different variables. First we're going to generate the combinations using a helper function called cartesian (above).\n",
    "\n",
    "We're going to use np.linspace to create a range of values for \"gre\" and \"gpa\". This creates a range of linearly spaced values from a specified min and maximum value--in our case just the min/max observed values."
   ]
  },
  {
   "cell_type": "code",
   "execution_count": 22,
   "metadata": {
    "collapsed": true
   },
   "outputs": [],
   "source": [
    "def cartesian(arrays, out=None):\n",
    "    \"\"\"\n",
    "    Generate a cartesian product of input arrays.\n",
    "    Parameters\n",
    "    ----------\n",
    "    arrays : list of array-like\n",
    "        1-D arrays to form the cartesian product of.\n",
    "    out : ndarray\n",
    "        Array to place the cartesian product in.\n",
    "    Returns\n",
    "    -------\n",
    "    out : ndarray\n",
    "        2-D array of shape (M, len(arrays)) containing cartesian products\n",
    "        formed of input arrays.\n",
    "    Examples\n",
    "    --------\n",
    "    >>> cartesian(([1, 2, 3], [4, 5], [6, 7]))\n",
    "    array([[1, 4, 6],\n",
    "           [1, 4, 7],\n",
    "           [1, 5, 6],\n",
    "           [1, 5, 7],\n",
    "           [2, 4, 6],\n",
    "           [2, 4, 7],\n",
    "           [2, 5, 6],\n",
    "           [2, 5, 7],\n",
    "           [3, 4, 6],\n",
    "           [3, 4, 7],\n",
    "           [3, 5, 6],\n",
    "           [3, 5, 7]])\n",
    "    \"\"\"\n",
    "\n",
    "    arrays = [np.asarray(x) for x in arrays]\n",
    "    dtype = arrays[0].dtype\n",
    "\n",
    "    n = np.prod([x.size for x in arrays])\n",
    "    if out is None:\n",
    "        out = np.zeros([n, len(arrays)], dtype=dtype)\n",
    "\n",
    "    m = n / arrays[0].size\n",
    "    out[:,0] = np.repeat(arrays[0], m)\n",
    "    if arrays[1:]:\n",
    "        cartesian(arrays[1:], out=out[0:m,1:])\n",
    "        for j in xrange(1, arrays[0].size):\n",
    "            out[j*m:(j+1)*m,1:] = out[0:m,1:]\n",
    "    return out"
   ]
  },
  {
   "cell_type": "code",
   "execution_count": 23,
   "metadata": {
    "collapsed": false
   },
   "outputs": [
    {
     "name": "stdout",
     "output_type": "stream",
     "text": [
      "GREs\n",
      "[ 220.          284.44444444  348.88888889  413.33333333  477.77777778\n",
      "  542.22222222  606.66666667  671.11111111  735.55555556  800.        ]\n",
      "GPAs\n",
      "[ 2.26        2.45333333  2.64666667  2.84        3.03333333  3.22666667\n",
      "  3.42        3.61333333  3.80666667  4.        ]\n",
      "     gre       gpa  prestige\n",
      "0  220.0  2.260000       1.0\n",
      "1  220.0  2.260000       2.0\n",
      "2  220.0  2.260000       3.0\n",
      "3  220.0  2.260000       4.0\n",
      "4  220.0  2.453333       1.0\n"
     ]
    }
   ],
   "source": [
    "# instead of generating all possible values of GRE and GPA, we're going\n",
    "# to use an evenly spaced range of 10 values from the min to the max \n",
    "gres = np.linspace(data['gre'].min(), data['gre'].max(), 10)\n",
    "print \"GREs\"\n",
    "print gres\n",
    "# array([ 220.        ,  284.44444444,  348.88888889,  413.33333333,\n",
    "#         477.77777778,  542.22222222,  606.66666667,  671.11111111,\n",
    "#         735.55555556,  800.        ])\n",
    "gpas = np.linspace(data['gpa'].min(), data['gpa'].max(), 10)\n",
    "print \"GPAs\"\n",
    "print gpas\n",
    "# array([ 2.26      ,  2.45333333,  2.64666667,  2.84      ,  3.03333333,\n",
    "#         3.22666667,  3.42      ,  3.61333333,  3.80666667,  4.        ])\n",
    "\n",
    "\n",
    "# enumerate all possibilities\n",
    "combos = pd.DataFrame(cartesian([gres, gpas, [1, 2, 3, 4]]))\n",
    "combos.columns = ['gre', 'gpa', 'prestige']\n",
    "print combos.head()"
   ]
  },
  {
   "cell_type": "markdown",
   "metadata": {},
   "source": [
    "#### 5.1 Recreate the dummy variables"
   ]
  },
  {
   "cell_type": "code",
   "execution_count": 24,
   "metadata": {
    "collapsed": false
   },
   "outputs": [
    {
     "name": "stdout",
     "output_type": "stream",
     "text": [
      "     gre       gpa  prestige_2  prestige_3  prestige_4  intercept\n",
      "0  220.0  2.260000         0.0         0.0         0.0        1.0\n",
      "1  220.0  2.260000         1.0         0.0         0.0        1.0\n",
      "2  220.0  2.260000         0.0         1.0         0.0        1.0\n",
      "3  220.0  2.260000         0.0         0.0         1.0        1.0\n",
      "4  220.0  2.453333         0.0         0.0         0.0        1.0\n"
     ]
    }
   ],
   "source": [
    "# recreate the dummy variables\n",
    "\n",
    "# keep only what we need for making predictions\n",
    "dummies = pd.get_dummies(combos['prestige'])\n",
    "\n",
    "combos = combos.copy()\n",
    "#df_pred['prestige_1'] = dummies.iloc[:,0]\n",
    "combos['prestige_2'] = dummies.iloc[:,1]\n",
    "combos['prestige_3'] = dummies.iloc[:,2]\n",
    "combos['prestige_4'] = dummies.iloc[:,3]\n",
    "\n",
    "combos['intercept'] = 1.0\n",
    "\n",
    "combos_clean = combos.drop('prestige', 1)\n",
    "\n",
    "print combos_clean.head()"
   ]
  },
  {
   "cell_type": "markdown",
   "metadata": {},
   "source": [
    "#### 5.2 Make predictions on the enumerated dataset"
   ]
  },
  {
   "cell_type": "code",
   "execution_count": 25,
   "metadata": {
    "collapsed": false
   },
   "outputs": [
    {
     "name": "stdout",
     "output_type": "stream",
     "text": [
      "[ 0.16417268  0.09049221  0.04897733  0.03989032  0.1859065   0.10368189\n",
      "  0.05649185  0.0460782   0.20979534  0.11854346  0.06508043  0.05317278\n",
      "  0.2358645   0.1352139   0.07487112  0.06128953  0.26409041  0.15381956\n",
      "  0.08599924  0.07055296  0.29439278  0.17446889  0.09860504  0.08109552\n",
      "  0.32662888  0.1972441   0.11283051  0.09305572  0.36059095  0.22219218\n",
      "  0.12881497  0.10657526  0.39600758  0.24931576  0.14668949  0.12179521\n",
      "  0.43254958  0.27856456  0.16657006  0.1388509   0.18474274  0.10296774\n",
      "  0.05608241  0.04574057  0.20852034  0.1177404   0.064613    0.05278605\n",
      "  0.23447808  0.13431512  0.07433896  0.06084755  0.2625951   0.15281896\n",
      "  0.08539529  0.07004917  0.29279415  0.17336148  0.09792205  0.08052298\n",
      "  0.32493581  0.19602646  0.11206123  0.09240722  0.35881565  0.2208629\n",
      "  0.12795243  0.10584354  0.3941654   0.24787592  0.14572728  0.12097314\n",
      "  0.43065861  0.27701814  0.16550274  0.1379318   0.46792096  0.30818267\n",
      "  0.18737316  0.15684362  0.20725106  0.11694205  0.06414869  0.05240197\n",
      "  0.23309733  0.13342138  0.07381028  0.06040856  0.26110524  0.1518237\n",
      "  0.08479518  0.0695487   0.29120062  0.17225964  0.09724327  0.07995412\n",
      "  0.32324731  0.19481451  0.11129654  0.09176279  0.35704421  0.21953933\n",
      "  0.12709482  0.10511626  0.39232622  0.24644167  0.14477031  0.12015587\n",
      "  0.42876967  0.27547703  0.1644409   0.13701781  0.46600235  0.30654169\n",
      "  0.18620232  0.15582697  0.50361771  0.33946809  0.21011936  0.17668951\n",
      "  0.23172224  0.13253269  0.07328507  0.05997253  0.25962087  0.15083376\n",
      "  0.08419891  0.06905155  0.28961221  0.17116334  0.0965687   0.07938893\n",
      "  0.3215634   0.19360824  0.11053642  0.0911224   0.35527667  0.21822147\n",
      "  0.12624212  0.10439339  0.3904901   0.24501301  0.14381856  0.11934336\n",
      "  0.4268828   0.27394124  0.16338455  0.13610892  0.46408475  0.3049056\n",
      "  0.18503713  0.1548157   0.50169075  0.33774185  0.20884291  0.175571\n",
      "  0.53927762  0.3722207   0.2348289   0.19845549  0.25814198  0.14984914\n",
      "  0.08360644  0.06855769  0.28802895  0.17007259  0.09589831  0.0788274\n",
      "  0.31988412  0.19240767  0.10978085  0.09048603  0.35351307  0.21690931\n",
      "  0.12539433  0.10367491  0.38865707  0.24358996  0.14287203  0.11853561\n",
      "  0.42499806  0.27241079  0.16233366  0.13520512  0.46216821  0.30327442\n",
      "  0.18387758  0.15380979  0.49976373  0.33601992  0.20757218  0.17445808\n",
      "  0.53736192  0.37042131  0.2334467   0.19723221  0.57453996  0.4061901\n",
      "  0.26148228  0.22217921  0.28645085  0.16898738  0.09523208  0.0782695\n",
      "  0.31820949  0.19121277  0.1090298   0.08985366  0.35175344  0.21560288\n",
      "  0.12455141  0.10296081  0.38682718  0.24217252  0.1419307   0.11773259\n",
      "  0.42311549  0.27088571  0.16128823  0.13430638  0.46025278  0.30164818\n",
      "  0.18272367  0.15280924  0.49783672  0.33430234  0.20630716  0.17335072\n",
      "  0.53544511  0.36862551  0.23207018  0.19601462  0.57265469  0.40433226\n",
      "  0.25999652  0.22084998  0.60905993  0.44108145  0.29001426  0.24786192\n",
      "  0.31653955  0.19002354  0.10828327  0.08922529  0.34999783  0.21430215\n",
      "  0.12371336  0.10225106  0.38500049  0.24076071  0.14099454  0.1169343\n",
      "  0.42123516  0.269366    0.16024824  0.1334127   0.45833853  0.3000269\n",
      "  0.18157539  0.15181403  0.49590977  0.33258915  0.20504786  0.17224893\n",
      "  0.53352726  0.36683335  0.23069933  0.19480273  0.57076731  0.40247716\n",
      "  0.25851624  0.21952646  0.60722305  0.43918206  0.28842969  0.24642772\n",
      "  0.64252176  0.47656458  0.32030924  0.27546204  0.34824628  0.21300715\n",
      "  0.12288016  0.10154566  0.38317703  0.23935452  0.14006356  0.1161407\n",
      "  0.4193571   0.26785168  0.15921369  0.13252405  0.45642551  0.29841062\n",
      "  0.18043273  0.15082414  0.49398295  0.33088037  0.20379427  0.17115269\n",
      "  0.53160841  0.36504486  0.22933416  0.19359652  0.56887787  0.40062485\n",
      "  0.25704146  0.21820865  0.60538314  0.43728444  0.28685028  0.24499912\n",
      "  0.64074936  0.47464214  0.31863343  0.2739263   0.67464944  0.51228586\n",
      "  0.35219899  0.30488968  0.38135685  0.23795398  0.13913772  0.11535179\n",
      "  0.41748138  0.26634278  0.15818455  0.13164043  0.45451377  0.29679935\n",
      "  0.17929569  0.14983958  0.4920563   0.32917604  0.2025464   0.17006199\n",
      "  0.52968863  0.36326008  0.22797467  0.192396    0.56698642  0.39877537\n",
      "  0.2555722   0.21689656  0.60354023  0.43538866  0.28527605  0.24357612\n",
      "  0.63897312  0.47272046  0.3169623   0.27239591  0.67295526  0.51035983\n",
      "  0.35044236  0.30325855  0.70521443  0.54788209  0.38546311  0.33600317\n",
      "  0.41560805  0.2648393   0.15716083  0.13076181  0.45260338  0.29519312\n",
      "  0.17816426  0.14886031  0.49012989  0.32747619  0.20130423  0.16897683\n",
      "  0.52776797  0.36147907  0.22662088  0.19120115  0.56509301  0.39692878\n",
      "  0.25410846  0.21559018  0.60169438  0.43349477  0.28370702  0.24215874\n",
      "  0.63719307  0.47079959  0.31529588  0.27087087  0.67125655  0.50843349\n",
      "  0.34868977  0.30163236  0.70360949  0.54597205  0.38363882  0.33428563\n",
      "  0.73403998  0.58299512  0.41983282  0.36860803]\n"
     ]
    }
   ],
   "source": [
    "prediction = result.predict(combos_clean)\n",
    "print prediction"
   ]
  },
  {
   "cell_type": "markdown",
   "metadata": {},
   "source": [
    "#### 5.3 Interpret findings for the last 4 observations"
   ]
  },
  {
   "cell_type": "markdown",
   "metadata": {},
   "source": [
    "Answer: \n",
    "The last 4 predictions are the odds of students with perfect GRE (800) and GPA (4.0) scores making it into grad school with the four different rankings (from highest to lowest)\n",
    "\n",
    "To be more specific:\n",
    "\n",
    "Odds for #1 ranked school:  0.73403998\n",
    "\n",
    "Odds for #2 ranked school:  0.58299512\n",
    "\n",
    "Odds for #3 ranked school:  0.41983282 \n",
    "\n",
    "Odds for #4 ranked school:  0.36860803\n",
    "\n",
    "\n"
   ]
  },
  {
   "cell_type": "markdown",
   "metadata": {},
   "source": [
    "## Bonus\n",
    "\n",
    "Plot the probability of being admitted into graduate school, stratified by GPA and GRE score."
   ]
  },
  {
   "cell_type": "code",
   "execution_count": 26,
   "metadata": {
    "collapsed": false
   },
   "outputs": [
    {
     "data": {
      "text/html": [
       "<div>\n",
       "<table border=\"1\" class=\"dataframe\">\n",
       "  <thead>\n",
       "    <tr style=\"text-align: right;\">\n",
       "      <th></th>\n",
       "      <th>gre</th>\n",
       "      <th>gpa</th>\n",
       "      <th>prestige</th>\n",
       "      <th>prestige_2</th>\n",
       "      <th>prestige_3</th>\n",
       "      <th>prestige_4</th>\n",
       "      <th>intercept</th>\n",
       "      <th>admit_odds</th>\n",
       "    </tr>\n",
       "  </thead>\n",
       "  <tbody>\n",
       "    <tr>\n",
       "      <th>0</th>\n",
       "      <td>220.0</td>\n",
       "      <td>2.260000</td>\n",
       "      <td>1.0</td>\n",
       "      <td>0.0</td>\n",
       "      <td>0.0</td>\n",
       "      <td>0.0</td>\n",
       "      <td>1.0</td>\n",
       "      <td>0.164173</td>\n",
       "    </tr>\n",
       "    <tr>\n",
       "      <th>1</th>\n",
       "      <td>220.0</td>\n",
       "      <td>2.260000</td>\n",
       "      <td>2.0</td>\n",
       "      <td>1.0</td>\n",
       "      <td>0.0</td>\n",
       "      <td>0.0</td>\n",
       "      <td>1.0</td>\n",
       "      <td>0.090492</td>\n",
       "    </tr>\n",
       "    <tr>\n",
       "      <th>2</th>\n",
       "      <td>220.0</td>\n",
       "      <td>2.260000</td>\n",
       "      <td>3.0</td>\n",
       "      <td>0.0</td>\n",
       "      <td>1.0</td>\n",
       "      <td>0.0</td>\n",
       "      <td>1.0</td>\n",
       "      <td>0.048977</td>\n",
       "    </tr>\n",
       "    <tr>\n",
       "      <th>3</th>\n",
       "      <td>220.0</td>\n",
       "      <td>2.260000</td>\n",
       "      <td>4.0</td>\n",
       "      <td>0.0</td>\n",
       "      <td>0.0</td>\n",
       "      <td>1.0</td>\n",
       "      <td>1.0</td>\n",
       "      <td>0.039890</td>\n",
       "    </tr>\n",
       "    <tr>\n",
       "      <th>4</th>\n",
       "      <td>220.0</td>\n",
       "      <td>2.453333</td>\n",
       "      <td>1.0</td>\n",
       "      <td>0.0</td>\n",
       "      <td>0.0</td>\n",
       "      <td>0.0</td>\n",
       "      <td>1.0</td>\n",
       "      <td>0.185907</td>\n",
       "    </tr>\n",
       "  </tbody>\n",
       "</table>\n",
       "</div>"
      ],
      "text/plain": [
       "     gre       gpa  prestige  prestige_2  prestige_3  prestige_4  intercept  \\\n",
       "0  220.0  2.260000       1.0         0.0         0.0         0.0        1.0   \n",
       "1  220.0  2.260000       2.0         1.0         0.0         0.0        1.0   \n",
       "2  220.0  2.260000       3.0         0.0         1.0         0.0        1.0   \n",
       "3  220.0  2.260000       4.0         0.0         0.0         1.0        1.0   \n",
       "4  220.0  2.453333       1.0         0.0         0.0         0.0        1.0   \n",
       "\n",
       "   admit_odds  \n",
       "0    0.164173  \n",
       "1    0.090492  \n",
       "2    0.048977  \n",
       "3    0.039890  \n",
       "4    0.185907  "
      ]
     },
     "execution_count": 26,
     "metadata": {},
     "output_type": "execute_result"
    }
   ],
   "source": [
    "combos_pred = combos\n",
    "combos_pred['admit_odds'] = prediction\n",
    "combos_pred.head()\n"
   ]
  },
  {
   "cell_type": "code",
   "execution_count": 132,
   "metadata": {
    "collapsed": false
   },
   "outputs": [
    {
     "data": {
      "text/plain": [
       "<seaborn.axisgrid.PairGrid at 0x2d670d30>"
      ]
     },
     "execution_count": 132,
     "metadata": {},
     "output_type": "execute_result"
    },
    {
     "data": {
      "image/png": "[encoded data removed]",
      "text/plain": [
       "<matplotlib.figure.Figure at 0x2d670f28>"
      ]
     },
     "metadata": {},
     "output_type": "display_data"
    }
   ],
   "source": [
    "p= sns.hls_palette(2, l=.35, s=1, h=.6)\n",
    "\n",
    "combos_pred_g = combos_pred[(combos_pred.prestige <= 2) ]\n",
    "\n",
    "sns.pairplot(data=combos_pred_g,  x_vars=['gre','gpa'],  \n",
    "    y_vars='admit_odds', size=7, hue='prestige', palette=p, plot_kws={'alpha':0.7, 's':100})"
   ]
  },
  {
   "cell_type": "code",
   "execution_count": 134,
   "metadata": {
    "collapsed": false
   },
   "outputs": [
    {
     "data": {
      "text/plain": [
       "<seaborn.axisgrid.PairGrid at 0x2e200dd8>"
      ]
     },
     "execution_count": 134,
     "metadata": {},
     "output_type": "execute_result"
    },
    {
     "data": {
      "image/png": "[encoded data removed]",
      "text/plain": [
       "<matplotlib.figure.Figure at 0x2e4231d0>"
      ]
     },
     "metadata": {},
     "output_type": "display_data"
    }
   ],
   "source": [
    "combos_pred_g = combos_pred[combos_pred.prestige > 2]\n",
    "\n",
    "sns.pairplot(data=combos_pred_g,  x_vars=['gre','gpa'],  \n",
    "    y_vars='admit_odds', size=7, hue='prestige', palette=p, plot_kws={'alpha':0.7, 's':100})"
   ]
  },
  {
   "cell_type": "code",
   "execution_count": 106,
   "metadata": {
    "collapsed": false
   },
   "outputs": [
    {
     "data": {
      "image/png": "[encoded data removed]",
      "text/plain": [
       "<matplotlib.figure.Figure at 0x27ed0da0>"
      ]
     },
     "metadata": {},
     "output_type": "display_data"
    }
   ],
   "source": [
    "sns.palplot(sns.hls_palette(4, l=.25, s=1, h=.30))"
   ]
  },
  {
   "cell_type": "code",
   "execution_count": null,
   "metadata": {
    "collapsed": true
   },
   "outputs": [],
   "source": []
  }
 ],
 "metadata": {
  "anaconda-cloud": {},
  "kernelspec": {
   "display_name": "Python [Root]",
   "language": "python",
   "name": "Python [Root]"
  },
  "language_info": {
   "codemirror_mode": {
    "name": "ipython",
    "version": 2
   },
   "file_extension": ".py",
   "mimetype": "text/x-python",
   "name": "python",
   "nbconvert_exporter": "python",
   "pygments_lexer": "ipython2",
   "version": "2.7.12"
  }
 },
 "nbformat": 4,
 "nbformat_minor": 0
}
